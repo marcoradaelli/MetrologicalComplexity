{
 "cells": [
  {
   "cell_type": "code",
   "execution_count": 9,
   "metadata": {},
   "outputs": [
    {
     "data": {
      "text/plain": [
       "EvolveHMM (generic function with 1 method)"
      ]
     },
     "metadata": {},
     "output_type": "display_data"
    }
   ],
   "source": [
    "include(\"MetrologicalModel.jl\")\n",
    "include(\"HiddenMarkovModel.jl\")"
   ]
  },
  {
   "cell_type": "code",
   "execution_count": 10,
   "metadata": {},
   "outputs": [
    {
     "data": {
      "text/plain": [
       "0.3"
      ]
     },
     "metadata": {},
     "output_type": "display_data"
    }
   ],
   "source": [
    "# Simulation parameters.\n",
    "θ = 0.3"
   ]
  },
  {
   "cell_type": "code",
   "execution_count": 11,
   "metadata": {},
   "outputs": [
    {
     "data": {
      "text/plain": [
       "Dict{String, Any} with 5 entries:\n",
       "  \"MetrologicalStates\" => Any[\"E\", \"D\"]\n",
       "  \"CurrentStateIndex\"  => 2\n",
       "  \"Name\"               => \"Model\"\n",
       "  \"CurrentStateName\"   => \"D\"\n",
       "  \"Edges\"              => Any[Dict{String, Any}(\"FinalStateIndex\"=>2, \"Emission…"
      ]
     },
     "metadata": {},
     "output_type": "display_data"
    }
   ],
   "source": [
    "# Create and setup the modified SNS model.\n",
    "model = CreateMetrologicalModel(\"Model\")\n",
    "AddMetrologicalState(model, \"E\")\n",
    "AddMetrologicalState(model, \"D\")\n",
    "AddEdge(model, \"E\", \"D\", \"0\", 1-θ)\n",
    "AddEdge(model, \"E\", \"D\", \"1\", θ)\n",
    "AddEdge(model, \"D\", \"D\", \"0\", 1)\n",
    "AddEdge(model, \"D\", \"E\", \"1\", 1)\n",
    "Initialise(model, \"D\")"
   ]
  },
  {
   "cell_type": "code",
   "execution_count": 12,
   "metadata": {},
   "outputs": [
    {
     "data": {
      "text/plain": [
       "(1, Dict{String, Any}(\"MetrologicalStates\" => Any[\"E\", \"D\"], \"CurrentStateIndex\" => 1, \"Name\" => \"Model\", \"CurrentStateName\" => \"E\", \"Edges\" => Any[Dict{String, Any}(\"FinalStateIndex\" => 2, \"Emission\" => \"0\", \"UpdateRule\" => 0.7, \"InitialStateIndex\" => 1, \"InitialStateName\" => \"E\", \"FinalStateName\" => \"D\"), Dict{String, Any}(\"FinalStateIndex\" => 2, \"Emission\" => \"1\", \"UpdateRule\" => 0.3, \"InitialStateIndex\" => 1, \"InitialStateName\" => \"E\", \"FinalStateName\" => \"D\"), Dict{String, Any}(\"FinalStateIndex\" => 2, \"Emission\" => \"0\", \"UpdateRule\" => 1, \"InitialStateIndex\" => 2, \"InitialStateName\" => \"D\", \"FinalStateName\" => \"D\"), Dict{String, Any}(\"FinalStateIndex\" => 1, \"Emission\" => \"1\", \"UpdateRule\" => 1, \"InitialStateIndex\" => 2, \"InitialStateName\" => \"D\", \"FinalStateName\" => \"E\")]))"
      ]
     },
     "metadata": {},
     "output_type": "display_data"
    }
   ],
   "source": [
    "Evolve(model, \"1\")"
   ]
  },
  {
   "cell_type": "code",
   "execution_count": 13,
   "metadata": {},
   "outputs": [
    {
     "data": {
      "text/plain": [
       "Dict{String, Any} with 5 entries:\n",
       "  \"States\"            => Any[\"A\", \"B\", \"C\"]\n",
       "  \"CurrentStateIndex\" => 1\n",
       "  \"Name\"              => \"HMM\"\n",
       "  \"CurrentStateName\"  => \"A\"\n",
       "  \"Edges\"             => Any[Dict{String, Any}(\"FinalStateIndex\"=>1, \"Emission\"…"
      ]
     },
     "metadata": {},
     "output_type": "display_data"
    }
   ],
   "source": [
    "HMM = CreateHMM(\"HMM\")\n",
    "AddStateHMM(HMM, \"A\")\n",
    "AddStateHMM(HMM, \"B\")\n",
    "AddStateHMM(HMM, \"C\")\n",
    "AddEdgeHMM(HMM, \"A\", \"A\", \"0\", 0.5)\n",
    "AddEdgeHMM(HMM, \"A\", \"B\", \"0\", 0.5)\n",
    "AddEdgeHMM(HMM, \"B\", \"B\", \"0\", 1/3.)\n",
    "AddEdgeHMM(HMM, \"B\", \"A\", \"1\", 2/3 * θ)\n",
    "AddEdgeHMM(HMM, \"B\", \"C\", \"1\", 2/3 * (1 - θ))\n",
    "AddEdgeHMM(HMM, \"C\", \"A\", \"1\", 1)\n",
    "InitialiseHMM(HMM, \"A\")"
   ]
  },
  {
   "cell_type": "code",
   "execution_count": 14,
   "metadata": {},
   "outputs": [
    {
     "ename": "ArgumentError",
     "evalue": "ArgumentError: invalid index: \"InitialStateIndex\" of type String",
     "output_type": "error",
     "traceback": [
      "ArgumentError: invalid index: \"InitialStateIndex\" of type String\n",
      "\n",
      "Stacktrace:\n",
      " [1] to_index(i::String)\n",
      "   @ Base ./indices.jl:300\n",
      " [2] to_index(A::Vector{Any}, i::String)\n",
      "   @ Base ./indices.jl:277\n",
      " [3] to_indices\n",
      "   @ ./indices.jl:333 [inlined]\n",
      " [4] to_indices\n",
      "   @ ./indices.jl:325 [inlined]\n",
      " [5] getindex(A::Vector{Any}, I::String)\n",
      "   @ Base ./abstractarray.jl:1218\n",
      " [6] EvolveHMM(HMM::Dict{String, Any})\n",
      "   @ Main ~/Desktop/RepoMC/MetrologicalComplexity/HiddenMarkovModel.jl:44\n",
      " [7] top-level scope\n",
      "   @ ~/Desktop/RepoMC/MetrologicalComplexity/TestMetrologicalModel.ipynb:1"
     ]
    }
   ],
   "source": [
    "EvolveHMM(HMM)"
   ]
  },
  {
   "cell_type": "code",
   "execution_count": null,
   "metadata": {},
   "outputs": [],
   "source": []
  }
 ],
 "metadata": {
  "kernelspec": {
   "display_name": "Julia 1.7.2",
   "language": "julia",
   "name": "julia-1.7"
  },
  "language_info": {
   "file_extension": ".jl",
   "mimetype": "application/julia",
   "name": "julia",
   "version": "1.7.2"
  }
 },
 "nbformat": 4,
 "nbformat_minor": 2
}
