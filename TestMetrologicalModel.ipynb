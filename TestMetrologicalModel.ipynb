{
 "cells": [
  {
   "cell_type": "code",
   "execution_count": 78,
   "metadata": {},
   "outputs": [
    {
     "data": {
      "text/plain": [
       "GenerateStringHMM (generic function with 1 method)"
      ]
     },
     "metadata": {},
     "output_type": "display_data"
    }
   ],
   "source": [
    "include(\"MetrologicalModel.jl\")\n",
    "include(\"HiddenMarkovModel.jl\")"
   ]
  },
  {
   "cell_type": "code",
   "execution_count": 79,
   "metadata": {},
   "outputs": [
    {
     "data": {
      "text/plain": [
       "100"
      ]
     },
     "metadata": {},
     "output_type": "display_data"
    }
   ],
   "source": [
    "# Simulation parameters.\n",
    "θ = 0.3\n",
    "string_length = 100\n",
    "number_trajectories = 100\n",
    "initial_state_HMM = \"A\"\n",
    "initial_state_metrological = \"D\""
   ]
  },
  {
   "cell_type": "code",
   "execution_count": 80,
   "metadata": {},
   "outputs": [
    {
     "data": {
      "text/plain": [
       "Dict{String, Any} with 5 entries:\n",
       "  \"MetrologicalStates\" => Any[\"E\", \"D\"]\n",
       "  \"CurrentStateIndex\"  => 2\n",
       "  \"Name\"               => \"Model\"\n",
       "  \"CurrentStateName\"   => \"D\"\n",
       "  \"Edges\"              => Any[Dict{String, Any}(\"FinalStateIndex\"=>2, \"Emission…"
      ]
     },
     "metadata": {},
     "output_type": "display_data"
    }
   ],
   "source": [
    "# Create and setup the metrological model for the modified SNS model.\n",
    "model = CreateMetrologicalModel(\"Model\")\n",
    "AddMetrologicalState(model, \"E\")\n",
    "AddMetrologicalState(model, \"D\")\n",
    "AddEdge(model, \"E\", \"D\", \"0\", 1-θ, -1/(1-θ)^2)\n",
    "AddEdge(model, \"E\", \"D\", \"1\", θ, - 1/θ^2)\n",
    "AddEdge(model, \"D\", \"D\", \"0\", 1, 0)\n",
    "AddEdge(model, \"D\", \"E\", \"1\", 1, 0)\n",
    "Initialise(model, \"D\")"
   ]
  },
  {
   "cell_type": "code",
   "execution_count": 81,
   "metadata": {},
   "outputs": [
    {
     "data": {
      "text/plain": [
       "Dict{String, Any} with 5 entries:\n",
       "  \"States\"            => Any[\"A\", \"B\", \"C\"]\n",
       "  \"CurrentStateIndex\" => 1\n",
       "  \"Name\"              => \"HMM\"\n",
       "  \"CurrentStateName\"  => \"A\"\n",
       "  \"Edges\"             => Any[Dict{String, Any}(\"FinalStateIndex\"=>1, \"Emission\"…"
      ]
     },
     "metadata": {},
     "output_type": "display_data"
    }
   ],
   "source": [
    "# Create and setup the HMM for the modified SNS model.\n",
    "HMM = CreateHMM(\"HMM\")\n",
    "AddStateHMM(HMM, \"A\")\n",
    "AddStateHMM(HMM, \"B\")\n",
    "AddStateHMM(HMM, \"C\")\n",
    "AddEdgeHMM(HMM, \"A\", \"A\", \"0\", 0.5)\n",
    "AddEdgeHMM(HMM, \"A\", \"B\", \"0\", 0.5)\n",
    "AddEdgeHMM(HMM, \"B\", \"B\", \"0\", 1/3.)\n",
    "AddEdgeHMM(HMM, \"B\", \"A\", \"1\", 2/3 * θ)\n",
    "AddEdgeHMM(HMM, \"B\", \"C\", \"1\", 2/3 * (1 - θ))\n",
    "AddEdgeHMM(HMM, \"C\", \"A\", \"1\", 1)\n",
    "InitialiseHMM(HMM, \"A\")"
   ]
  },
  {
   "cell_type": "code",
   "execution_count": 82,
   "metadata": {},
   "outputs": [
    {
     "data": {
      "text/plain": [
       "\"0011001001100110010000000110001100110100001101100110001101001100110011000110110110000010100000110110\""
      ]
     },
     "metadata": {},
     "output_type": "display_data"
    }
   ],
   "source": [
    "GenerateStringHMM(HMM, string_length)"
   ]
  },
  {
   "cell_type": "code",
   "execution_count": 77,
   "metadata": {},
   "outputs": [],
   "source": [
    "v_fisher = zeros(string_length)\n",
    "for trajectory in 1:number_trajectories\n",
    "    # Generate string.\n",
    "    Initialise(model, initial_state_metrological)\n",
    "    InitaliseHMM(HMM, initial_state_HMM)\n",
    "    \n",
    "    for item in 1:\n",
    "end"
   ]
  },
  {
   "cell_type": "code",
   "execution_count": 61,
   "metadata": {},
   "outputs": [],
   "source": []
  },
  {
   "cell_type": "code",
   "execution_count": null,
   "metadata": {},
   "outputs": [],
   "source": []
  }
 ],
 "metadata": {
  "kernelspec": {
   "display_name": "Julia 1.7.2",
   "language": "julia",
   "name": "julia-1.7"
  },
  "language_info": {
   "file_extension": ".jl",
   "mimetype": "application/julia",
   "name": "julia",
   "version": "1.7.2"
  }
 },
 "nbformat": 4,
 "nbformat_minor": 2
}
